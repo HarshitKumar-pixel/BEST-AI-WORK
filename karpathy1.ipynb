{
  "nbformat": 4,
  "nbformat_minor": 0,
  "metadata": {
    "colab": {
      "provenance": [],
      "authorship_tag": "ABX9TyPq6n63cDC1/5XoM4HR8m6+",
      "include_colab_link": true
    },
    "kernelspec": {
      "name": "python3",
      "display_name": "Python 3"
    },
    "language_info": {
      "name": "python"
    }
  },
  "cells": [
    {
      "cell_type": "markdown",
      "metadata": {
        "id": "view-in-github",
        "colab_type": "text"
      },
      "source": [
        "<a href=\"https://colab.research.google.com/github/HarshitKumar-pixel/BEST-AI-WORK/blob/main/karpathy1.ipynb\" target=\"_parent\"><img src=\"https://colab.research.google.com/assets/colab-badge.svg\" alt=\"Open In Colab\"/></a>"
      ]
    },
    {
      "cell_type": "code",
      "execution_count": 64,
      "metadata": {
        "id": "ZI59UaYxNacX"
      },
      "outputs": [],
      "source": [
        "import math\n",
        "import numpy as np\n",
        "import matplotlib.pyplot as plt\n",
        "import random\n",
        "%matplotlib inline"
      ]
    },
    {
      "cell_type": "code",
      "source": [
        "class Value:\n",
        "  def __init__(self,data, _children=() , _op='',label='') :\n",
        "    self.data=data\n",
        "    self.grad = 0.0\n",
        "    self._backward = lambda : None\n",
        "    self._prev = set(_children)\n",
        "    self._op = _op\n",
        "    self.label = label\n",
        "\n",
        "  def __repr__(self):\n",
        "    return f\"Value(data={self.data})\"\n",
        "\n",
        "  def __add__(self,other):\n",
        "    other = other if isinstance(other,Value) else Value(other)\n",
        "    out = Value(self.data + other.data,(self,other),'+')\n",
        "\n",
        "    def backward():\n",
        "      self.grad += 1.0*out.grad\n",
        "      other.grad += 1.0*out.grad\n",
        "    out._backward = backward\n",
        "\n",
        "    return out\n",
        "\n",
        "  def __mul__(self,other):\n",
        "    other = other if isinstance(other,Value) else Value(other)\n",
        "    out = Value(self.data * other.data,(self,other),'*')\n",
        "    def backward():\n",
        "      self.grad += other.data * out.grad\n",
        "      other.grad += self.data * out.grad\n",
        "\n",
        "    out._backward = backward\n",
        "    return out\n",
        "\n",
        "  def __pow__(self, other):\n",
        "    assert isinstance(other, (int, float)), \"only supporting int/float powers for now\"\n",
        "    out = Value(self.data ** other, (self,), f'**{other}')\n",
        "\n",
        "    def backward():\n",
        "        self.grad += other * (self.data ** (other - 1)) * out.grad\n",
        "    out._backward = backward\n",
        "\n",
        "    return out\n",
        "\n",
        "  def __neg__(self):\n",
        "    return self*-1\n",
        "\n",
        "  def __sub__(self,other):\n",
        "    return self + (-other)\n",
        "\n",
        "  def __rmul__(self,other):\n",
        "    return self*other\n",
        "\n",
        "  def __truediv__(self,other):\n",
        "    return self * other**-1\n",
        "\n",
        "  def tanh(self):\n",
        "    x=self.data\n",
        "    t = (math.exp(2*x)-1)/(math.exp(2*x)+1)\n",
        "    out = Value(t,(self,),'tanh')\n",
        "    def backward():\n",
        "      self.grad += (1 - out.data**2)*out.grad\n",
        "\n",
        "    out._backward = backward\n",
        "    return out\n",
        "\n",
        "  def exp(self):\n",
        "    x = self.data\n",
        "    out = Value(math.exp(x),(self, ),_op='exp')\n",
        "\n",
        "    def backward():\n",
        "      self.grad+=out.data*out.grad\n",
        "\n",
        "    out._backward=backward\n",
        "\n",
        "    return out\n",
        "\n",
        "  def backward(self):\n",
        "    topo = []\n",
        "    visited = set()\n",
        "    def build_topo(v):\n",
        "      if v not in visited:\n",
        "        visited.add(v)\n",
        "        for child in v._prev:\n",
        "          build_topo(child)\n",
        "        topo.append(v)\n",
        "\n",
        "    build_topo(self)\n",
        "\n",
        "    self.grad = 1.0\n",
        "\n",
        "    for node in reversed(topo):\n",
        "      node._backward()\n",
        "\n",
        "\n"
      ],
      "metadata": {
        "id": "G6UO4gCrdhYV"
      },
      "execution_count": 65,
      "outputs": []
    },
    {
      "cell_type": "code",
      "source": [
        "from graphviz import Digraph\n",
        "\n",
        "def trace(root):\n",
        "    # builds a set of all nodes and edges in a graph\n",
        "    nodes, edges = set(), set()\n",
        "    def build(v):\n",
        "        if v not in nodes:\n",
        "            nodes.add(v)\n",
        "            for child in v._prev:\n",
        "                edges.add((child, v))\n",
        "                build(child)\n",
        "    build(root)\n",
        "    return nodes, edges\n",
        "\n",
        "def draw_dot(root):\n",
        "    dot = Digraph(format='svg', graph_attr={'rankdir': 'LR'})  # LR = left to right\n",
        "\n",
        "    nodes, edges = trace(root)\n",
        "    for n in nodes:\n",
        "        uid = str(id(n))\n",
        "        # for any value in the graph, create a rectangular ('record') node for it\n",
        "        dot.node(\n",
        "            name=uid,\n",
        "            label=\"{ %s | data %.4f | grad %.4f }\" % (n.label, n.data, n.grad),\n",
        "            shape='record'\n",
        "        )\n",
        "        if n._op:\n",
        "            # if this value is a result of some operation, create an op node for it\n",
        "            dot.node(name=uid + n._op, label=n._op)\n",
        "            # and connect this node to it\n",
        "            dot.edge(uid + n._op, uid)\n",
        "\n",
        "    for n1, n2 in edges:\n",
        "        # connect n1 to the op node of n2\n",
        "        dot.edge(str(id(n1)), str(id(n2)) + n2._op)\n",
        "\n",
        "    return dot\n"
      ],
      "metadata": {
        "id": "_5x2b2Hek0HT"
      },
      "execution_count": 66,
      "outputs": []
    },
    {
      "cell_type": "code",
      "source": [
        "\n",
        "class  Neuron:\n",
        "  def __init__(self,nin):\n",
        "    self.w = [Value(random.uniform(-1,1)) for i in range(nin)]\n",
        "    self.b = Value(random.uniform(-1,1))\n",
        "\n",
        "  def __call__(self,x):\n",
        "    act = sum((wi*xi for wi,xi in zip(self.w,x)),self.b)\n",
        "    out = act.tanh()\n",
        "    return out\n",
        "\n",
        "  def parameters(self):\n",
        "    return self.w + [self.b]\n",
        "\n",
        "class Layer:\n",
        "  def __init__(self,nin,nout):\n",
        "    self.neurons = [Neuron(nin) for _ in range(nout)]\n",
        "\n",
        "  def __call__(self,x):\n",
        "    out = [n(x) for n in self.neurons]\n",
        "    return out[0] if len(out) == 1 else out\n",
        "\n",
        "  def parameters(self):\n",
        "    params = []\n",
        "    for neuron in self.neurons:\n",
        "      sp  = neuron.parameters()\n",
        "      params.extend(sp)\n",
        "    return params\n",
        "\n",
        "class MLP:\n",
        "  def __init__(self, nin, nouts):\n",
        "    temp = [nin] + nouts\n",
        "    self.layers = [Layer(temp[i],temp[i+1]) for i in range(len(nouts))]\n",
        "\n",
        "  def __call__(self,x):\n",
        "    for layer in self.layers:\n",
        "      x = layer(x)\n",
        "\n",
        "    return x\n",
        "\n",
        "  def parameters(self):\n",
        "    params = []\n",
        "    for layer in self.layers:\n",
        "      sp = layer.parameters()\n",
        "      params.extend(sp)\n",
        "    return params\n"
      ],
      "metadata": {
        "id": "ISdPZ0wJcn2i"
      },
      "execution_count": 221,
      "outputs": []
    },
    {
      "cell_type": "code",
      "source": [
        "# change the values from here\n",
        "\n",
        "n = MLP(3,[10,10,1])"
      ],
      "metadata": {
        "id": "ZYLa7dlJ8bWq"
      },
      "execution_count": 298,
      "outputs": []
    },
    {
      "cell_type": "code",
      "source": [
        "# this is a tiny data set and its outputs\n",
        "\n",
        "xs = [\n",
        "    [2.0, 3.0, -1.0],\n",
        "    [3.0, -1.0, 0.5],\n",
        "    [0.5, 1.0, 1.0],\n",
        "    [1.0, 1.0, -1.0],\n",
        "]\n",
        "ys = [-1.0,1.0,1.0,-1.0]\n",
        "parameters = n.parameters()"
      ],
      "metadata": {
        "id": "mRpuxxf38k_L"
      },
      "execution_count": 299,
      "outputs": []
    },
    {
      "cell_type": "code",
      "source": [
        "# this is the optimization step . can change the values\n",
        "\n",
        "for i in range(1000):\n",
        "  # forward pass\n",
        "  ypred = [n(x) for x in xs]\n",
        "  loss = sum(((ypredt - yst)**2 for ypredt,yst in zip(ypred , ys)),Value(0.0))\n",
        "\n",
        "  # zero grading: if we dont do this step the derivatives will keep accumulating like dy/dx + dy2/dx2 + ....... and so on\n",
        "  for p in parameters:\n",
        "    p.grad = 0.0\n",
        "\n",
        "  # the backard pass assigning gradients to parameters at that particular point to minimize the loss\n",
        "  loss.backward()\n",
        "\n",
        "  # this is the gradient descent which is shifting the weights in the opposite direction of their gradient w.r.t loss so it decreases the loss\n",
        "  for p in parameters:\n",
        "    p.data+= -0.1*p.grad\n",
        "\n",
        "\n",
        "loss"
      ],
      "metadata": {
        "colab": {
          "base_uri": "https://localhost:8080/"
        },
        "id": "Z25j9ew_SFa7",
        "outputId": "6587b0a2-306c-41eb-9fae-40fba5ea4071"
      },
      "execution_count": 305,
      "outputs": [
        {
          "output_type": "execute_result",
          "data": {
            "text/plain": [
              "Value(data=4.216650543257885e-05)"
            ]
          },
          "metadata": {},
          "execution_count": 305
        }
      ]
    },
    {
      "cell_type": "code",
      "source": [
        "ypred"
      ],
      "metadata": {
        "colab": {
          "base_uri": "https://localhost:8080/"
        },
        "id": "_i7WCY4OUqb5",
        "outputId": "d63a957f-16ac-47a3-fa27-6a98ad096345"
      },
      "execution_count": 304,
      "outputs": [
        {
          "output_type": "execute_result",
          "data": {
            "text/plain": [
              "[Value(data=-0.997558178589164),\n",
              " Value(data=0.9989392753294727),\n",
              " Value(data=0.9945173358110285),\n",
              " Value(data=-0.9948017128160901)]"
            ]
          },
          "metadata": {},
          "execution_count": 304
        }
      ]
    },
    {
      "cell_type": "code",
      "source": [],
      "metadata": {
        "id": "clHnMU7lWw4x"
      },
      "execution_count": null,
      "outputs": []
    }
  ]
}